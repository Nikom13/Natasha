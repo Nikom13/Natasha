{
 "cells": [
  {
   "cell_type": "code",
   "execution_count": 37,
   "id": "c50b18ef",
   "metadata": {},
   "outputs": [],
   "source": [
    "import pandas as pd\n",
    "from sklearn.model_selection import train_test_split, GridSearchCV\n",
    "from sklearn.svm import SVC\n",
    "from sklearn.preprocessing import StandardScaler, OneHotEncoder\n",
    "from sklearn.pipeline import Pipeline\n",
    "from sklearn.compose import ColumnTransformer\n",
    "from sklearn.metrics import accuracy_score\n",
    "from sklearn.metrics import classification_report\n",
    "import joblib\n",
    "import os"
   ]
  },
  {
   "cell_type": "code",
   "execution_count": 38,
   "id": "182d79f9",
   "metadata": {},
   "outputs": [
    {
     "data": {
      "text/plain": [
       "'D:\\\\Files from MSI 2020\\\\Natalya Sochilova\\\\Blood'"
      ]
     },
     "execution_count": 38,
     "metadata": {},
     "output_type": "execute_result"
    }
   ],
   "source": [
    "os.getcwd()"
   ]
  },
  {
   "cell_type": "markdown",
   "id": "95d5e589",
   "metadata": {},
   "source": [
    "# Pipeline"
   ]
  },
  {
   "cell_type": "code",
   "execution_count": 39,
   "id": "272aaa66",
   "metadata": {},
   "outputs": [],
   "source": [
    "df = pd.read_csv(\"D:\\\\Files from MSI 2020\\\\Natalya Sochilova\\\\Basic Tests\\\\all_diagnosis.csv\", encoding='latin-1')"
   ]
  },
  {
   "cell_type": "code",
   "execution_count": 40,
   "id": "f07fe123",
   "metadata": {},
   "outputs": [],
   "source": [
    "df = df[df['Vid_donacii'] == 'krov']"
   ]
  },
  {
   "cell_type": "code",
   "execution_count": 41,
   "id": "d3aaec92",
   "metadata": {},
   "outputs": [],
   "source": [
    "# Separate predictors (X) and target (y)\n",
    "X = df[['POL', 'RET_HE', 'Mikrocity' ,'RBC' , 'RDW_SD' , 'MCV' , 'MCH' ,'RDW_CV' , 'Faktor_mikrocitarnoj_anemii' , 'Hb_nizkoj_plotnosti']] \n",
    "y = df['Diagnosis']\n",
    "\n",
    "# Split data into training and testing sets\n",
    "X_train, X_test, y_train, y_test = train_test_split(X, y, test_size=0.2, random_state=42)"
   ]
  },
  {
   "cell_type": "code",
   "execution_count": 42,
   "id": "750beaeb",
   "metadata": {},
   "outputs": [],
   "source": [
    "# Define column transformer for preprocessing\n",
    "numeric_features = X.select_dtypes(include=['int64', 'float64']).columns\n",
    "categorical_features = ['POL']  # Replace with your categorical feature column(s)\n",
    "\n",
    "preprocessor = ColumnTransformer(\n",
    "    transformers=[\n",
    "        ('num', StandardScaler(), numeric_features),\n",
    "        ('cat', OneHotEncoder(), categorical_features)\n",
    "    ]\n",
    ")"
   ]
  },
  {
   "cell_type": "code",
   "execution_count": 43,
   "id": "f191a106",
   "metadata": {},
   "outputs": [],
   "source": [
    "# Define SVM classifier pipeline\n",
    "svm_pipeline = Pipeline(steps=[\n",
    "    ('preprocessor', preprocessor),\n",
    "    ('classifier', SVC(random_state=42))\n",
    "])"
   ]
  },
  {
   "cell_type": "code",
   "execution_count": 44,
   "id": "d41834b1",
   "metadata": {},
   "outputs": [],
   "source": [
    "param_grid = {\n",
    "    'classifier__C': [0.1, 1, 10, 100],  # Regularization parameter\n",
    "    'classifier__kernel': ['linear', 'rbf'],  # Kernel type\n",
    "    'classifier__gamma': ['scale', 'auto'],  # Kernel coefficient\n",
    "    'classifier__class_weight': ['balanced', None],  # Adjusting for class imbalance if any\n",
    "}"
   ]
  },
  {
   "cell_type": "code",
   "execution_count": 45,
   "id": "aa5aca9b",
   "metadata": {},
   "outputs": [
    {
     "name": "stdout",
     "output_type": "stream",
     "text": [
      "Fitting 5 folds for each of 32 candidates, totalling 160 fits\n",
      "Best parameters found:\n",
      "{'classifier__C': 10, 'classifier__class_weight': None, 'classifier__gamma': 'scale', 'classifier__kernel': 'rbf'}\n",
      "Best cross-validation score:\n",
      "0.7010196078431372\n"
     ]
    }
   ],
   "source": [
    "# Initialize GridSearchCV\n",
    "grid_search = GridSearchCV(svm_pipeline, param_grid, cv=5, scoring='accuracy', verbose=1)\n",
    "\n",
    "# Fit the grid search to the data\n",
    "grid_search.fit(X_train, y_train)\n",
    "\n",
    "# Print the best parameters and best score\n",
    "print(\"Best parameters found:\")\n",
    "print(grid_search.best_params_)\n",
    "print(\"Best cross-validation score:\")\n",
    "print(grid_search.best_score_)"
   ]
  },
  {
   "cell_type": "code",
   "execution_count": 46,
   "id": "9360d95b",
   "metadata": {},
   "outputs": [
    {
     "name": "stdout",
     "output_type": "stream",
     "text": [
      "Test Accuracy: 0.625\n"
     ]
    }
   ],
   "source": [
    "# Predict on the test set\n",
    "y_pred = grid_search.best_estimator_.predict(X_test)\n",
    "\n",
    "# Calculate accuracy\n",
    "accuracy = accuracy_score(y_test, y_pred)\n",
    "print(f\"Test Accuracy: {accuracy}\")"
   ]
  },
  {
   "cell_type": "code",
   "execution_count": 47,
   "id": "fc77bcf2",
   "metadata": {},
   "outputs": [
    {
     "name": "stdout",
     "output_type": "stream",
     "text": [
      "                              precision    recall  f1-score   support\n",
      "\n",
      "Iron deficiency anemia (IDA)       0.69      0.84      0.76        45\n",
      "                      Normal       0.22      0.11      0.14        19\n",
      "\n",
      "                    accuracy                           0.62        64\n",
      "                   macro avg       0.46      0.47      0.45        64\n",
      "                weighted avg       0.55      0.62      0.58        64\n",
      "\n"
     ]
    }
   ],
   "source": [
    "print(classification_report(y_test, y_pred))"
   ]
  },
  {
   "cell_type": "code",
   "execution_count": 48,
   "id": "cad2ef19",
   "metadata": {},
   "outputs": [
    {
     "data": {
      "text/plain": [
       "['D:\\\\Files from MSI 2020\\\\Natalya Sochilova\\\\Blood\\\\tuned_svm_classifier_blood.sav']"
      ]
     },
     "execution_count": 48,
     "metadata": {},
     "output_type": "execute_result"
    }
   ],
   "source": [
    "#Save, if needed\n",
    "\n",
    "import joblib\n",
    "\n",
    "best_svm_estimator = grid_search.best_estimator_\n",
    "\n",
    "filename = os.getcwd() + '\\\\tuned_svm_classifier_blood.sav'\n",
    "joblib.dump(best_svm_estimator, filename)"
   ]
  },
  {
   "cell_type": "markdown",
   "id": "c7a6e5f1",
   "metadata": {},
   "source": [
    "# Precision\n",
    "Precision is a measure of the accuracy of positive predictions made by the model. It answers the question: \"Out of all the instances predicted as positive, how many are actually positive?\"\n",
    "\n",
    "\n",
    "\n",
    "Precision = TP/TP+FP \n",
    "\n",
    "True Positives (TP): The number of instances correctly predicted as positive (e.g., correctly predicted as \"sick\" when they are actually \"sick\").\n",
    "False Positives (FP): The number of instances incorrectly predicted as positive (e.g., predicted as \"sick\" when they are actually \"healthy\").\n",
    "High precision indicates that when the model predicts a positive class, it is usually correct. It is essential in applications where the cost of false positives is high.\n",
    "\n",
    "\n",
    "Recall\n",
    "=\n",
    "\n",
    "Recall:\n",
    "Recall (also known as sensitivity or true positive rate) measures the ability of the model to correctly identify positive instances. It answers the question: \"Out of all the actual positive instances, how many did the model correctly identify?\"\n",
    "\n",
    "Mathematically, recall is defined as:\n",
    "\n",
    "Recall = TP/TP +FN\n",
    "​\n",
    " \n",
    "\n",
    "True Negatives (TN): The number of instances correctly predicted as negative (e.g., correctly predicted as \"healthy\" when they are actually \"healthy\").\n",
    "False Negatives (FN): The number of instances incorrectly predicted as negative (e.g., predicted as \"healthy\" when they are actually \"sick\").\n",
    "\n",
    "High recall indicates that the model is able to identify a large proportion of positive instances correctly. It is crucial in applications where missing positive instances (false negatives) is costly.\n",
    "\n",
    "Interpretation:\n",
    "Precision and recall are inversely related; improving one typically reduces the other. This trade-off is common in machine learning models.\n",
    "\n",
    "F1-score\n",
    "=\n",
    "\n",
    "F1-score: Sometimes, a combined metric like the F1-score (harmonic mean of precision and recall) is used to balance precision and recall:\n",
    "\n",
    "𝐹1-score = Precision x Recall / Precision + Recall\n",
    "\n",
    "The F1-score provides a single metric to evaluate both precision and recall, useful when you need to balance both metrics.\n",
    "\n",
    "Support\n",
    "=\n",
    "\n",
    "Support is the number of actual occurrences of the class in the specified dataset."
   ]
  },
  {
   "cell_type": "markdown",
   "id": "caa5e256",
   "metadata": {},
   "source": [
    "# Load and make new predictions"
   ]
  },
  {
   "cell_type": "code",
   "execution_count": 49,
   "id": "5f2c4aa1",
   "metadata": {},
   "outputs": [
    {
     "ename": "KeyboardInterrupt",
     "evalue": "Interrupted by user",
     "output_type": "error",
     "traceback": [
      "\u001b[1;31m---------------------------------------------------------------------------\u001b[0m",
      "\u001b[1;31mKeyboardInterrupt\u001b[0m                         Traceback (most recent call last)",
      "Cell \u001b[1;32mIn[49], line 37\u001b[0m\n\u001b[0;32m     34\u001b[0m     \u001b[38;5;28;01mreturn\u001b[39;00m user_input\n\u001b[0;32m     36\u001b[0m \u001b[38;5;66;03m# Get user input\u001b[39;00m\n\u001b[1;32m---> 37\u001b[0m user_input \u001b[38;5;241m=\u001b[39m \u001b[43mget_user_input\u001b[49m\u001b[43m(\u001b[49m\u001b[43mvariable_names\u001b[49m\u001b[43m,\u001b[49m\u001b[43m \u001b[49m\u001b[43mnumeric_variables\u001b[49m\u001b[43m,\u001b[49m\u001b[43m \u001b[49m\u001b[43mcategorical_variables\u001b[49m\u001b[43m)\u001b[49m\n\u001b[0;32m     39\u001b[0m \u001b[38;5;66;03m# Convert user input to a DataFrame\u001b[39;00m\n\u001b[0;32m     40\u001b[0m input_df \u001b[38;5;241m=\u001b[39m pd\u001b[38;5;241m.\u001b[39mDataFrame([user_input])\n",
      "Cell \u001b[1;32mIn[49], line 18\u001b[0m, in \u001b[0;36mget_user_input\u001b[1;34m(variable_names, numeric_variables, categorical_variables)\u001b[0m\n\u001b[0;32m     16\u001b[0m \u001b[38;5;28;01mfor\u001b[39;00m var \u001b[38;5;129;01min\u001b[39;00m variable_names:\n\u001b[0;32m     17\u001b[0m     \u001b[38;5;28;01mwhile\u001b[39;00m \u001b[38;5;28;01mTrue\u001b[39;00m:\n\u001b[1;32m---> 18\u001b[0m         value \u001b[38;5;241m=\u001b[39m \u001b[38;5;28;43minput\u001b[39;49m\u001b[43m(\u001b[49m\u001b[38;5;124;43mf\u001b[39;49m\u001b[38;5;124;43m\"\u001b[39;49m\u001b[38;5;124;43mPlease enter value for \u001b[39;49m\u001b[38;5;124;43m'\u001b[39;49m\u001b[38;5;132;43;01m{\u001b[39;49;00m\u001b[43mvar\u001b[49m\u001b[38;5;132;43;01m}\u001b[39;49;00m\u001b[38;5;124;43m'\u001b[39;49m\u001b[38;5;124;43m: \u001b[39;49m\u001b[38;5;124;43m\"\u001b[39;49m\u001b[43m)\u001b[49m\n\u001b[0;32m     19\u001b[0m         \u001b[38;5;28;01mif\u001b[39;00m var \u001b[38;5;129;01min\u001b[39;00m numeric_variables:\n\u001b[0;32m     20\u001b[0m             \u001b[38;5;28;01mtry\u001b[39;00m:\n",
      "File \u001b[1;32m~\\.conda\\envs\\python38\\lib\\site-packages\\ipykernel\\kernelbase.py:1191\u001b[0m, in \u001b[0;36mKernel.raw_input\u001b[1;34m(self, prompt)\u001b[0m\n\u001b[0;32m   1189\u001b[0m     msg \u001b[38;5;241m=\u001b[39m \u001b[38;5;124m\"\u001b[39m\u001b[38;5;124mraw_input was called, but this frontend does not support input requests.\u001b[39m\u001b[38;5;124m\"\u001b[39m\n\u001b[0;32m   1190\u001b[0m     \u001b[38;5;28;01mraise\u001b[39;00m StdinNotImplementedError(msg)\n\u001b[1;32m-> 1191\u001b[0m \u001b[38;5;28;01mreturn\u001b[39;00m \u001b[38;5;28;43mself\u001b[39;49m\u001b[38;5;241;43m.\u001b[39;49m\u001b[43m_input_request\u001b[49m\u001b[43m(\u001b[49m\n\u001b[0;32m   1192\u001b[0m \u001b[43m    \u001b[49m\u001b[38;5;28;43mstr\u001b[39;49m\u001b[43m(\u001b[49m\u001b[43mprompt\u001b[49m\u001b[43m)\u001b[49m\u001b[43m,\u001b[49m\n\u001b[0;32m   1193\u001b[0m \u001b[43m    \u001b[49m\u001b[38;5;28;43mself\u001b[39;49m\u001b[38;5;241;43m.\u001b[39;49m\u001b[43m_parent_ident\u001b[49m\u001b[43m[\u001b[49m\u001b[38;5;124;43m\"\u001b[39;49m\u001b[38;5;124;43mshell\u001b[39;49m\u001b[38;5;124;43m\"\u001b[39;49m\u001b[43m]\u001b[49m\u001b[43m,\u001b[49m\n\u001b[0;32m   1194\u001b[0m \u001b[43m    \u001b[49m\u001b[38;5;28;43mself\u001b[39;49m\u001b[38;5;241;43m.\u001b[39;49m\u001b[43mget_parent\u001b[49m\u001b[43m(\u001b[49m\u001b[38;5;124;43m\"\u001b[39;49m\u001b[38;5;124;43mshell\u001b[39;49m\u001b[38;5;124;43m\"\u001b[39;49m\u001b[43m)\u001b[49m\u001b[43m,\u001b[49m\n\u001b[0;32m   1195\u001b[0m \u001b[43m    \u001b[49m\u001b[43mpassword\u001b[49m\u001b[38;5;241;43m=\u001b[39;49m\u001b[38;5;28;43;01mFalse\u001b[39;49;00m\u001b[43m,\u001b[49m\n\u001b[0;32m   1196\u001b[0m \u001b[43m\u001b[49m\u001b[43m)\u001b[49m\n",
      "File \u001b[1;32m~\\.conda\\envs\\python38\\lib\\site-packages\\ipykernel\\kernelbase.py:1234\u001b[0m, in \u001b[0;36mKernel._input_request\u001b[1;34m(self, prompt, ident, parent, password)\u001b[0m\n\u001b[0;32m   1231\u001b[0m \u001b[38;5;28;01mexcept\u001b[39;00m \u001b[38;5;167;01mKeyboardInterrupt\u001b[39;00m:\n\u001b[0;32m   1232\u001b[0m     \u001b[38;5;66;03m# re-raise KeyboardInterrupt, to truncate traceback\u001b[39;00m\n\u001b[0;32m   1233\u001b[0m     msg \u001b[38;5;241m=\u001b[39m \u001b[38;5;124m\"\u001b[39m\u001b[38;5;124mInterrupted by user\u001b[39m\u001b[38;5;124m\"\u001b[39m\n\u001b[1;32m-> 1234\u001b[0m     \u001b[38;5;28;01mraise\u001b[39;00m \u001b[38;5;167;01mKeyboardInterrupt\u001b[39;00m(msg) \u001b[38;5;28;01mfrom\u001b[39;00m \u001b[38;5;28mNone\u001b[39m\n\u001b[0;32m   1235\u001b[0m \u001b[38;5;28;01mexcept\u001b[39;00m \u001b[38;5;167;01mException\u001b[39;00m:\n\u001b[0;32m   1236\u001b[0m     \u001b[38;5;28mself\u001b[39m\u001b[38;5;241m.\u001b[39mlog\u001b[38;5;241m.\u001b[39mwarning(\u001b[38;5;124m\"\u001b[39m\u001b[38;5;124mInvalid Message:\u001b[39m\u001b[38;5;124m\"\u001b[39m, exc_info\u001b[38;5;241m=\u001b[39m\u001b[38;5;28;01mTrue\u001b[39;00m)\n",
      "\u001b[1;31mKeyboardInterrupt\u001b[0m: Interrupted by user"
     ]
    }
   ],
   "source": [
    "# Load the saved model\n",
    "\n",
    "loaded_model = joblib.load(os.getcwd() + \"\\\\tuned_svm_classifier_blood.sav\")\n",
    "\n",
    "# Define the names of the variables \n",
    "variable_names = ['POL', 'RET_HE', 'Mikrocity' ,'RBC' , 'RDW_SD' , 'MCV' , 'MCH' ,'RDW_CV' , 'Faktor_mikrocitarnoj_anemii' , 'Hb_nizkoj_plotnosti']\n",
    "\n",
    "# Define which variables are numeric and which are categorical\n",
    "numeric_variables = ['RET_HE', 'Mikrocity' ,'RBC' , 'RDW_SD' , 'MCV' , 'MCH' ,'RDW_CV' , 'Faktor_mikrocitarnoj_anemii' , 'Hb_nizkoj_plotnosti']\n",
    "\n",
    "categorical_variables = ['POL']\n",
    "\n",
    "# Function to prompt user for input values for each variable\n",
    "def get_user_input(variable_names, numeric_variables, categorical_variables):\n",
    "    user_input = {}\n",
    "    for var in variable_names:\n",
    "        while True:\n",
    "            value = input(f\"Please enter value for '{var}': \")\n",
    "            if var in numeric_variables:\n",
    "                try:\n",
    "                    user_input[var] = float(value)\n",
    "                    break\n",
    "                except ValueError:\n",
    "                    print(f\"Invalid input for '{var}'. Please enter a numeric value.\")\n",
    "            elif var in categorical_variables:\n",
    "                if value in ['M', 'F']:\n",
    "                    user_input[var] = value\n",
    "                    break\n",
    "                else:\n",
    "                    print(f\"Invalid input for '{var}'. Please enter 'M' or 'F'.\")\n",
    "            else:\n",
    "                user_input[var] = value\n",
    "                break\n",
    "    return user_input\n",
    "\n",
    "# Get user input\n",
    "user_input = get_user_input(variable_names, numeric_variables, categorical_variables)\n",
    "\n",
    "# Convert user input to a DataFrame\n",
    "input_df = pd.DataFrame([user_input])\n",
    "\n",
    "# Use the loaded model to make predictions\n",
    "prediction = loaded_model.predict(input_df)\n",
    "\n",
    "# Output the prediction\n",
    "print(\"Predicted output:\", prediction[0])"
   ]
  },
  {
   "cell_type": "code",
   "execution_count": null,
   "id": "eca5a0f7",
   "metadata": {},
   "outputs": [],
   "source": []
  }
 ],
 "metadata": {
  "kernelspec": {
   "display_name": "Python 3 (ipykernel)",
   "language": "python",
   "name": "python3"
  },
  "language_info": {
   "codemirror_mode": {
    "name": "ipython",
    "version": 3
   },
   "file_extension": ".py",
   "mimetype": "text/x-python",
   "name": "python",
   "nbconvert_exporter": "python",
   "pygments_lexer": "ipython3",
   "version": "3.8.16"
  }
 },
 "nbformat": 4,
 "nbformat_minor": 5
}
