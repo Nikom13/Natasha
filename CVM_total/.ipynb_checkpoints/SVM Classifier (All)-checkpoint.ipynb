{
 "cells": [
  {
   "cell_type": "code",
   "execution_count": 1,
   "id": "c50b18ef",
   "metadata": {},
   "outputs": [
    {
     "name": "stderr",
     "output_type": "stream",
     "text": [
      "C:\\Users\\makar\\.conda\\envs\\python38\\lib\\site-packages\\numpy\\_distributor_init.py:30: UserWarning: loaded more than 1 DLL from .libs:\n",
      "C:\\Users\\makar\\.conda\\envs\\python38\\lib\\site-packages\\numpy\\.libs\\libopenblas.FB5AE2TYXYH2IJRDKGDGQ3XBKLKTF43H.gfortran-win_amd64.dll\n",
      "C:\\Users\\makar\\.conda\\envs\\python38\\lib\\site-packages\\numpy\\.libs\\libopenblas64__v0.3.21-gcc_10_3_0.dll\n",
      "  warnings.warn(\"loaded more than 1 DLL from .libs:\"\n"
     ]
    }
   ],
   "source": [
    "import pandas as pd\n",
    "from sklearn.model_selection import train_test_split, GridSearchCV\n",
    "from sklearn.svm import SVC\n",
    "from sklearn.preprocessing import StandardScaler, OneHotEncoder\n",
    "from sklearn.pipeline import Pipeline\n",
    "from sklearn.compose import ColumnTransformer\n",
    "from sklearn.metrics import accuracy_score\n",
    "from sklearn.metrics import classification_report\n",
    "import joblib\n",
    "import os"
   ]
  },
  {
   "cell_type": "code",
   "execution_count": 2,
   "id": "182d79f9",
   "metadata": {},
   "outputs": [
    {
     "data": {
      "text/plain": [
       "'D:\\\\Files from MSI 2020\\\\Natalya Sochilova\\\\CVM_total'"
      ]
     },
     "execution_count": 2,
     "metadata": {},
     "output_type": "execute_result"
    }
   ],
   "source": [
    "os.getcwd()"
   ]
  },
  {
   "cell_type": "markdown",
   "id": "95d5e589",
   "metadata": {},
   "source": [
    "# Pipeline"
   ]
  },
  {
   "cell_type": "code",
   "execution_count": 3,
   "id": "272aaa66",
   "metadata": {},
   "outputs": [],
   "source": [
    "df = pd.read_csv(\"D:\\\\Files from MSI 2020\\\\Natalya Sochilova\\\\Basic Tests\\\\all_diagnosis.csv\", encoding='latin-1')"
   ]
  },
  {
   "cell_type": "code",
   "execution_count": 4,
   "id": "d3aaec92",
   "metadata": {},
   "outputs": [],
   "source": [
    "# Separate predictors (X) and target (y)\n",
    "X = df[['Vid_donacii', 'POL', 'RET_HE', 'Mikrocity' ,'RBC' , 'RDW_SD' , 'MCV' , 'MCH' ,'RDW_CV' , 'Faktor_mikrocitarnoj_anemii' , 'Hb_nizkoj_plotnosti']] \n",
    "y = df['Diagnosis']\n",
    "\n",
    "# Split data into training and testing sets\n",
    "X_train, X_test, y_train, y_test = train_test_split(X, y, test_size=0.2, random_state=42)"
   ]
  },
  {
   "cell_type": "code",
   "execution_count": 5,
   "id": "750beaeb",
   "metadata": {},
   "outputs": [],
   "source": [
    "# Define column transformer for preprocessing\n",
    "numeric_features = X.select_dtypes(include=['int64', 'float64']).columns\n",
    "categorical_features = ['Vid_donacii', 'POL']  # Replace with your categorical feature column(s)\n",
    "\n",
    "preprocessor = ColumnTransformer(\n",
    "    transformers=[\n",
    "        ('num', StandardScaler(), numeric_features),\n",
    "        ('cat', OneHotEncoder(), categorical_features)\n",
    "    ]\n",
    ")"
   ]
  },
  {
   "cell_type": "code",
   "execution_count": 6,
   "id": "f191a106",
   "metadata": {},
   "outputs": [],
   "source": [
    "# Define SVM classifier pipeline\n",
    "svm_pipeline = Pipeline(steps=[\n",
    "    ('preprocessor', preprocessor),\n",
    "    ('classifier', SVC(random_state=42))\n",
    "])"
   ]
  },
  {
   "cell_type": "code",
   "execution_count": 7,
   "id": "d41834b1",
   "metadata": {},
   "outputs": [],
   "source": [
    "param_grid = {\n",
    "    'classifier__C': [0.1, 1, 10, 100],  # Regularization parameter\n",
    "    'classifier__kernel': ['linear', 'rbf'],  # Kernel type\n",
    "    'classifier__gamma': ['scale', 'auto'],  # Kernel coefficient\n",
    "    'classifier__class_weight': ['balanced', None],  # Adjusting for class imbalance if any\n",
    "}"
   ]
  },
  {
   "cell_type": "code",
   "execution_count": 8,
   "id": "aa5aca9b",
   "metadata": {},
   "outputs": [
    {
     "name": "stdout",
     "output_type": "stream",
     "text": [
      "Fitting 5 folds for each of 32 candidates, totalling 160 fits\n",
      "Best parameters found:\n",
      "{'classifier__C': 1, 'classifier__class_weight': None, 'classifier__gamma': 'scale', 'classifier__kernel': 'rbf'}\n",
      "Best cross-validation score:\n",
      "0.7035721219180741\n"
     ]
    }
   ],
   "source": [
    "# Initialize GridSearchCV\n",
    "grid_search = GridSearchCV(svm_pipeline, param_grid, cv=5, scoring='accuracy', verbose=1)\n",
    "\n",
    "# Fit the grid search to the data\n",
    "grid_search.fit(X_train, y_train)\n",
    "\n",
    "# Print the best parameters and best score\n",
    "print(\"Best parameters found:\")\n",
    "print(grid_search.best_params_)\n",
    "print(\"Best cross-validation score:\")\n",
    "print(grid_search.best_score_)"
   ]
  },
  {
   "cell_type": "code",
   "execution_count": 9,
   "id": "9360d95b",
   "metadata": {},
   "outputs": [
    {
     "name": "stdout",
     "output_type": "stream",
     "text": [
      "Test Accuracy: 0.6377952755905512\n"
     ]
    }
   ],
   "source": [
    "# Predict on the test set\n",
    "y_pred = grid_search.best_estimator_.predict(X_test)\n",
    "\n",
    "# Calculate accuracy\n",
    "accuracy = accuracy_score(y_test, y_pred)\n",
    "print(f\"Test Accuracy: {accuracy}\")"
   ]
  },
  {
   "cell_type": "code",
   "execution_count": 13,
   "id": "fc77bcf2",
   "metadata": {},
   "outputs": [
    {
     "name": "stdout",
     "output_type": "stream",
     "text": [
      "                              precision    recall  f1-score   support\n",
      "\n",
      "Iron deficiency anemia (IDA)       0.68      0.83      0.75        82\n",
      "                      Normal       0.48      0.29      0.36        45\n",
      "\n",
      "                    accuracy                           0.64       127\n",
      "                   macro avg       0.58      0.56      0.55       127\n",
      "                weighted avg       0.61      0.64      0.61       127\n",
      "\n"
     ]
    }
   ],
   "source": [
    "print(classification_report(y_test, y_pred))"
   ]
  },
  {
   "cell_type": "code",
   "execution_count": 11,
   "id": "cad2ef19",
   "metadata": {},
   "outputs": [
    {
     "data": {
      "text/plain": [
       "['D:\\\\Files from MSI 2020\\\\Natalya Sochilova\\\\CVM_total\\\\tuned_svm_classifier_all.sav']"
      ]
     },
     "execution_count": 11,
     "metadata": {},
     "output_type": "execute_result"
    }
   ],
   "source": [
    "#Save, if needed\n",
    "\n",
    "import joblib\n",
    "\n",
    "best_svm_estimator = grid_search.best_estimator_\n",
    "\n",
    "filename = os.getcwd() + '\\\\tuned_svm_classifier_all.sav'\n",
    "joblib.dump(best_svm_estimator, filename)"
   ]
  },
  {
   "cell_type": "markdown",
   "id": "c7a6e5f1",
   "metadata": {},
   "source": [
    "# Precision\n",
    "Precision is a measure of the accuracy of positive predictions made by the model. It answers the question: \"Out of all the instances predicted as positive, how many are actually positive?\"\n",
    "\n",
    "\n",
    "\n",
    "Precision = TP/TP+FP \n",
    "\n",
    "True Positives (TP): The number of instances correctly predicted as positive (e.g., correctly predicted as \"sick\" when they are actually \"sick\").\n",
    "False Positives (FP): The number of instances incorrectly predicted as positive (e.g., predicted as \"sick\" when they are actually \"healthy\").\n",
    "High precision indicates that when the model predicts a positive class, it is usually correct. It is essential in applications where the cost of false positives is high.\n",
    "\n",
    "\n",
    "Recall\n",
    "=\n",
    "\n",
    "Recall:\n",
    "Recall (also known as sensitivity or true positive rate) measures the ability of the model to correctly identify positive instances. It answers the question: \"Out of all the actual positive instances, how many did the model correctly identify?\"\n",
    "\n",
    "Mathematically, recall is defined as:\n",
    "\n",
    "Recall = TP/TP +FN\n",
    "​\n",
    " \n",
    "\n",
    "True Negatives (TN): The number of instances correctly predicted as negative (e.g., correctly predicted as \"healthy\" when they are actually \"healthy\").\n",
    "False Negatives (FN): The number of instances incorrectly predicted as negative (e.g., predicted as \"healthy\" when they are actually \"sick\").\n",
    "\n",
    "High recall indicates that the model is able to identify a large proportion of positive instances correctly. It is crucial in applications where missing positive instances (false negatives) is costly.\n",
    "\n",
    "Interpretation:\n",
    "Precision and recall are inversely related; improving one typically reduces the other. This trade-off is common in machine learning models.\n",
    "\n",
    "F1-score\n",
    "=\n",
    "\n",
    "F1-score: Sometimes, a combined metric like the F1-score (harmonic mean of precision and recall) is used to balance precision and recall:\n",
    "\n",
    "𝐹1-score = Precision x Recall / Precision + Recall\n",
    "\n",
    "The F1-score provides a single metric to evaluate both precision and recall, useful when you need to balance both metrics.\n",
    "\n",
    "Support\n",
    "=\n",
    "\n",
    "Support is the number of actual occurrences of the class in the specified dataset."
   ]
  },
  {
   "cell_type": "markdown",
   "id": "caa5e256",
   "metadata": {},
   "source": [
    "# Load and make new predictions"
   ]
  },
  {
   "cell_type": "code",
   "execution_count": 14,
   "id": "5f2c4aa1",
   "metadata": {},
   "outputs": [
    {
     "name": "stdout",
     "output_type": "stream",
     "text": [
      "Please enter value for 'Vid_donacii': M\n",
      "Invalid input for 'Vid_donacii'. Please enter 'krov', 'plazma' or'trombocity'.\n",
      "Please enter value for 'Vid_donacii': krov\n",
      "Please enter value for 'POL': L\n",
      "Invalid input for 'POL'. Please enter 'M' or 'F'.\n",
      "Please enter value for 'POL': M\n",
      "Please enter value for 'RET_HE': ssafd\n",
      "Invalid input for 'RET_HE'. Please enter a numeric value.\n",
      "Please enter value for 'RET_HE': 5454\n",
      "Please enter value for 'Mikrocity': 7\n",
      "Please enter value for 'RBC': 4\n",
      "Please enter value for 'RDW_SD': 6\n",
      "Please enter value for 'MCV': 6\n",
      "Please enter value for 'MCH': 5\n",
      "Please enter value for 'RDW_CV': 4\n",
      "Please enter value for 'Faktor_mikrocitarnoj_anemii': 4\n",
      "Please enter value for 'Hb_nizkoj_plotnosti': 4\n",
      "Predicted output: Iron deficiency anemia (IDA)\n"
     ]
    }
   ],
   "source": [
    "# Load the saved model\n",
    "\n",
    "loaded_model = joblib.load(os.getcwd() + \"\\\\tuned_svm_classifier_all.sav\")\n",
    "\n",
    "# Define the names of the variables \n",
    "variable_names = ['Vid_donacii', 'POL', 'RET_HE', 'Mikrocity' ,'RBC' , 'RDW_SD' , 'MCV' , 'MCH' ,'RDW_CV' , 'Faktor_mikrocitarnoj_anemii' , 'Hb_nizkoj_plotnosti']\n",
    "\n",
    "# Define which variables are numeric and which are categorical\n",
    "numeric_variables = ['RET_HE', 'Mikrocity' ,'RBC' , 'RDW_SD' , 'MCV' , 'MCH' ,'RDW_CV' , 'Faktor_mikrocitarnoj_anemii' , 'Hb_nizkoj_plotnosti']\n",
    "\n",
    "categorical_variables = ['Vid_donacii', 'POL']\n",
    "\n",
    "# Function to prompt user for input values for each variable\n",
    "def get_user_input(variable_names, numeric_variables, categorical_variables):\n",
    "    user_input = {}\n",
    "    for var in variable_names:\n",
    "        while True:\n",
    "            value = input(f\"Please enter value for '{var}': \")\n",
    "            if var in numeric_variables:\n",
    "                try:\n",
    "                    user_input[var] = float(value)\n",
    "                    break\n",
    "                except ValueError:\n",
    "                    print(f\"Invalid input for '{var}'. Please enter a numeric value.\")\n",
    "            elif var in 'POL':\n",
    "                if value in ['M', 'F']:\n",
    "                    user_input[var] = value\n",
    "                    break\n",
    "                else:\n",
    "                    print(f\"Invalid input for '{var}'. Please enter 'M' or 'F'.\")\n",
    "            elif var in 'Vid_donacii':\n",
    "                if value in ['krov', 'plazma', 'trombocity']:\n",
    "                    user_input[var] = value\n",
    "                    break\n",
    "                else:\n",
    "                    print(f\"Invalid input for '{var}'. Please enter 'krov', 'plazma' or'trombocity'.\")\n",
    "            else:\n",
    "                user_input[var] = value\n",
    "                break\n",
    "    return user_input\n",
    "\n",
    "# Get user input\n",
    "user_input = get_user_input(variable_names, numeric_variables, categorical_variables)\n",
    "\n",
    "# Convert user input to a DataFrame\n",
    "input_df = pd.DataFrame([user_input])\n",
    "\n",
    "# Use the loaded model to make predictions\n",
    "prediction = loaded_model.predict(input_df)\n",
    "\n",
    "# Output the prediction\n",
    "print(\"Predicted output:\", prediction[0])"
   ]
  },
  {
   "cell_type": "code",
   "execution_count": null,
   "id": "eca5a0f7",
   "metadata": {},
   "outputs": [],
   "source": []
  }
 ],
 "metadata": {
  "kernelspec": {
   "display_name": "Python 3 (ipykernel)",
   "language": "python",
   "name": "python3"
  },
  "language_info": {
   "codemirror_mode": {
    "name": "ipython",
    "version": 3
   },
   "file_extension": ".py",
   "mimetype": "text/x-python",
   "name": "python",
   "nbconvert_exporter": "python",
   "pygments_lexer": "ipython3",
   "version": "3.8.16"
  }
 },
 "nbformat": 4,
 "nbformat_minor": 5
}
